{
 "cells": [
  {
   "cell_type": "code",
   "execution_count": 1,
   "metadata": {},
   "outputs": [],
   "source": [
    "import numpy as np\n",
    "import math"
   ]
  },
  {
   "cell_type": "code",
   "execution_count": 2,
   "metadata": {},
   "outputs": [],
   "source": [
    "#4.1\n",
    "def create_train_data():\n",
    "    data = [\n",
    "    [\"Sunny\", \"Hot\", \"High\", \"Weak\", \"No\"],\n",
    "    [\"Sunny\", \"Hot\", \"High\", \"Strong\", \"No\"],\n",
    "    [\"Overcast\", \"Hot\", \"High\", \"Weak\", \"Yes\"],\n",
    "    [\"Rain\", \"Mild\", \"High\", \"Weak\", \"Yes\"],\n",
    "    [\"Rain\", \"Cool\", \"Normal\", \"Weak\", \"Yes\"],\n",
    "    [\"Rain\", \"Cool\", \"Normal\", \"Strong\", \"No\"],\n",
    "    [\"Overcast\", \"Cool\", \"Normal\", \"Strong\", \"Yes\"],\n",
    "    [\"Overcast\", \"Mild\", \"High\", \"Weak\", \"No\"],\n",
    "    [\"Sunny\", \"Cool\", \"Normal\", \"Weak\", \"Yes\"],\n",
    "    [\"Rain\", \"Mild\", \"Normal\", \"Weak\", \"Yes\"]\n",
    "]\n",
    "    return np.array(data)\n"
   ]
  },
  {
   "cell_type": "code",
   "execution_count": 3,
   "metadata": {},
   "outputs": [
    {
     "name": "stdout",
     "output_type": "stream",
     "text": [
      "P(“Play Tennis” = No) 0.4\n",
      "P(“Play Tennis” = Yes) 0.6\n"
     ]
    }
   ],
   "source": [
    "# 4.2\n",
    "def compute_prior_probability(train_data):\n",
    "    y_unique = [\"No\",\"Yes\"]\n",
    "    prior_probability = np.zeros(len(y_unique))\n",
    "    for i in range(len(y_unique)):\n",
    "        prior_probability[i]= len(np.where(train_data[:,-1] == y_unique[i])[0])/len(train_data)\n",
    "    return prior_probability\n",
    "prior_probability = compute_prior_probability(create_train_data())\n",
    "print(\"P(“Play Tennis” = No)\", prior_probability[0])\n",
    "print(\"P(“Play Tennis” = Yes)\", prior_probability[1])"
   ]
  },
  {
   "cell_type": "code",
   "execution_count": 11,
   "metadata": {},
   "outputs": [
    {
     "name": "stdout",
     "output_type": "stream",
     "text": [
      "x1 =  ['Overcast' 'Rain' 'Sunny']\n",
      "x2 =  ['Cool' 'Hot' 'Mild']\n",
      "x3 =  ['High' 'Normal']\n",
      "x4 =  ['Strong' 'Weak']\n"
     ]
    }
   ],
   "source": [
    "#4.3\n",
    "def compute_conditional_probability(train_data):\n",
    "    y_unique = [\"No\",\"Yes\"]\n",
    "    conditional_probability = []\n",
    "    list_x_name = []\n",
    "    for i in range(train_data.shape[-1]-1):\n",
    "        x_unique = np.unique(train_data[:,i])\n",
    "        list_x_name.append(x_unique)\n",
    "        \n",
    "        x_conditional_probability = np.zeros((len(y_unique), len(x_unique)))\n",
    "        for j in range(len(y_unique)):\n",
    "            for k in range(len(x_unique)):\n",
    "                x_conditional_probability[j,k] = len(np.where((train_data[:,i] == x_unique[k]) & (train_data[:,4] == y_unique[j]))[0])/len(np.where(train_data[:,4] == y_unique[j])[0])\n",
    "        conditional_probability.append(x_conditional_probability)\n",
    "    return conditional_probability, list_x_name\n",
    "\n",
    "train_data = create_train_data()\n",
    "_, list_x_name = compute_conditional_probability(train_data)\n",
    "print(\"x1 = \",list_x_name[0])\n",
    "print(\"x2 = \",list_x_name[1])\n",
    "print(\"x3 = \",list_x_name[2])\n",
    "print(\"x4 = \",list_x_name[3])"
   ]
  },
  {
   "cell_type": "code",
   "execution_count": 15,
   "metadata": {},
   "outputs": [],
   "source": [
    "#4.4\n",
    "def get_index_from_value(feature_name, list_features):\n",
    "    return np.where(list_features == feature_name)[0][0]"
   ]
  },
  {
   "cell_type": "code",
   "execution_count": 16,
   "metadata": {},
   "outputs": [
    {
     "name": "stdout",
     "output_type": "stream",
     "text": [
      "P('Outlook'='Sunny'| Play tennis = 'Yes') =  0.17\n"
     ]
    }
   ],
   "source": [
    "train_data = create_train_data()\n",
    "conditional_probability, list_x_name = compute_conditional_probability(train_data)\n",
    "x1 = get_index_from_value(\"Sunny\", list_x_name[0])\n",
    "print(\"P('Outlook'='Sunny'| Play tennis = 'Yes') = \", np.round(conditional_probability[0][1,x1],2))"
   ]
  },
  {
   "cell_type": "code",
   "execution_count": 21,
   "metadata": {},
   "outputs": [
    {
     "name": "stdout",
     "output_type": "stream",
     "text": [
      "P('Outlook'='Sunny'| Play tennis = 'No') =  0.5\n"
     ]
    }
   ],
   "source": [
    "train_data = create_train_data()\n",
    "conditional_probability, list_x_name = compute_conditional_probability(train_data)\n",
    "x1 = get_index_from_value(\"Sunny\", list_x_name[0])\n",
    "print(\"P('Outlook'='Sunny'| Play tennis = 'No') = \", np.round(conditional_probability[0][0,x1],2))"
   ]
  },
  {
   "cell_type": "code",
   "execution_count": 35,
   "metadata": {},
   "outputs": [],
   "source": [
    "#4.5\n",
    "def train_naive_bayes(train_data):\n",
    "    prior_probability = compute_conditional_probability(train_data)\n",
    "    conditional_probability, list_x_name = compute_conditional_probability(train_data)\n",
    "    return prior_probability, conditional_probability, list_x_name"
   ]
  },
  {
   "cell_type": "code",
   "execution_count": 45,
   "metadata": {},
   "outputs": [],
   "source": [
    "#4.6\n",
    "def prediction(x, list_x_name, prior_probability, conditional_probability):\n",
    "    x1 = get_index_from_value(x[0], list_x_name[0])\n",
    "    x2 = get_index_from_value(x[1], list_x_name[1])\n",
    "    x3 = get_index_from_value(x[2], list_x_name[2])\n",
    "    x4 = get_index_from_value(x[3], list_x_name[3])\n",
    "    \n",
    "    p0 = (prior_probability[0]\n",
    "          * conditional_probability[0][0, x1]\n",
    "          * conditional_probability[1][0, x2]\n",
    "          * conditional_probability[2][0, x3]\n",
    "          * conditional_probability[3][0, x4])\n",
    "    \n",
    "    p1 = (prior_probability[1]\n",
    "          * conditional_probability[0][1, x1]\n",
    "          * conditional_probability[1][1, x2]\n",
    "          * conditional_probability[2][1, x3]\n",
    "          * conditional_probability[3][1, x4])\n",
    "    \n",
    "    if p0 > p1:\n",
    "        y_pred = \"No\", p0\n",
    "    else:\n",
    "        y_pred = \"Yes\", p1\n",
    "    \n",
    "    return y_pred"
   ]
  },
  {
   "cell_type": "code",
   "execution_count": null,
   "metadata": {},
   "outputs": [],
   "source": [
    "x = [\"Sunny\", \"Cool\", \"High\", \"Strong\"]\n",
    "data = create_train_data()\n",
    "prior_probability, conditional_probability, list_x_name = train_naive_bayes(data)\n",
    "pred = prediction(x, list_x_name, prior_probability, conditional_probability)"
   ]
  }
 ],
 "metadata": {
  "kernelspec": {
   "display_name": "buinhatlinh94_env",
   "language": "python",
   "name": "python3"
  },
  "language_info": {
   "codemirror_mode": {
    "name": "ipython",
    "version": 3
   },
   "file_extension": ".py",
   "mimetype": "text/x-python",
   "name": "python",
   "nbconvert_exporter": "python",
   "pygments_lexer": "ipython3",
   "version": "3.10.13"
  }
 },
 "nbformat": 4,
 "nbformat_minor": 2
}
